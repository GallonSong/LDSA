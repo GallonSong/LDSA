{
 "cells": [
  {
   "cell_type": "markdown",
   "metadata": {},
   "source": [
    "# A. 1"
   ]
  },
  {
   "cell_type": "code",
   "execution_count": 2,
   "metadata": {},
   "outputs": [],
   "source": [
    "from operator import add\n",
    "from pyspark.sql import SparkSession\n",
    "\n",
    "spark_session = SparkSession\\\n",
    "       .builder\\\n",
    "       .master(\"spark://192.168.2.87:7077\") \\\n",
    "       .appName(\"jialun_song_a3_part1\")\\\n",
    "       .config(\"spark.dynamicAllocation.enabled\", True)\\\n",
    "       .config(\"spark.shuffle.service.enabled\", True)\\\n",
    "       .config(\"spark.dynamicAllocation.executorIdleTimeout\",\"30s\")\\\n",
    "       .config(\"spark.executor.cores\",4)\\\n",
    "       .getOrCreate()\n",
    "        \n",
    "spark_context = spark_session.sparkContext"
   ]
  },
  {
   "cell_type": "code",
   "execution_count": 85,
   "metadata": {},
   "outputs": [],
   "source": [
    "parallel_corpus_en_rdd = spark_context.textFile(\"hdfs://192.168.2.87:9000/europarl/europarl-v7.sv-en.en\")\n",
    "parallel_corpus_sv_rdd = spark_context.textFile(\"hdfs://192.168.2.87:9000/europarl/europarl-v7.sv-en.sv\")"
   ]
  },
  {
   "cell_type": "code",
   "execution_count": 86,
   "metadata": {},
   "outputs": [
    {
     "name": "stdout",
     "output_type": "stream",
     "text": [
      "1862234\n"
     ]
    },
    {
     "data": {
      "text/plain": [
       "True"
      ]
     },
     "execution_count": 86,
     "metadata": {},
     "output_type": "execute_result"
    }
   ],
   "source": [
    "print(parallel_corpus_en_rdd.count())\n",
    "parallel_corpus_en_rdd.count() == parallel_corpus_sv_rdd.count()"
   ]
  },
  {
   "cell_type": "code",
   "execution_count": 87,
   "metadata": {},
   "outputs": [
    {
     "name": "stdout",
     "output_type": "stream",
     "text": [
      "Number of partitions of the English transcript: 2.\n",
      "Number of partitions of the Swedish transcript: 3.\n"
     ]
    }
   ],
   "source": [
    "print(f\"Number of partitions of the English transcript: {parallel_corpus_en_rdd.getNumPartitions()}.\")\n",
    "print(f\"Number of partitions of the Swedish transcript: {parallel_corpus_sv_rdd.getNumPartitions()}.\")"
   ]
  },
  {
   "cell_type": "markdown",
   "metadata": {},
   "source": [
    "# A. 2"
   ]
  },
  {
   "cell_type": "code",
   "execution_count": 88,
   "metadata": {},
   "outputs": [
    {
     "data": {
      "text/plain": [
       "PythonRDD[157] at RDD at PythonRDD.scala:53"
      ]
     },
     "execution_count": 88,
     "metadata": {},
     "output_type": "execute_result"
    }
   ],
   "source": [
    "def pre_process(line):\n",
    "    return line.lower().split()\n",
    "\n",
    "en_tokenized_rdd = parallel_corpus_en_rdd.map(pre_process)\n",
    "en_tokenized_rdd.cache()  # use rdd.is_cached to check; rdd.unpersist() to uncache.\n",
    "sv_tokenized_rdd = parallel_corpus_sv_rdd.map(pre_process)\n",
    "sv_tokenized_rdd.cache()"
   ]
  },
  {
   "cell_type": "code",
   "execution_count": 89,
   "metadata": {},
   "outputs": [
    {
     "name": "stdout",
     "output_type": "stream",
     "text": [
      "[['resumption', 'of', 'the', 'session'], ['i', 'declare', 'resumed', 'the', 'session', 'of', 'the', 'european', 'parliament', 'adjourned', 'on', 'friday', '17', 'december', '1999,', 'and', 'i', 'would', 'like', 'once', 'again', 'to', 'wish', 'you', 'a', 'happy', 'new', 'year', 'in', 'the', 'hope', 'that', 'you', 'enjoyed', 'a', 'pleasant', 'festive', 'period.'], ['although,', 'as', 'you', 'will', 'have', 'seen,', 'the', 'dreaded', \"'millennium\", \"bug'\", 'failed', 'to', 'materialise,', 'still', 'the', 'people', 'in', 'a', 'number', 'of', 'countries', 'suffered', 'a', 'series', 'of', 'natural', 'disasters', 'that', 'truly', 'were', 'dreadful.'], ['you', 'have', 'requested', 'a', 'debate', 'on', 'this', 'subject', 'in', 'the', 'course', 'of', 'the', 'next', 'few', 'days,', 'during', 'this', 'part-session.'], ['in', 'the', 'meantime,', 'i', 'should', 'like', 'to', 'observe', 'a', \"minute'\", 's', 'silence,', 'as', 'a', 'number', 'of', 'members', 'have', 'requested,', 'on', 'behalf', 'of', 'all', 'the', 'victims', 'concerned,', 'particularly', 'those', 'of', 'the', 'terrible', 'storms,', 'in', 'the', 'various', 'countries', 'of', 'the', 'european', 'union.'], ['please', 'rise,', 'then,', 'for', 'this', \"minute'\", 's', 'silence.'], ['(the', 'house', 'rose', 'and', 'observed', 'a', \"minute'\", 's', 'silence)'], ['madam', 'president,', 'on', 'a', 'point', 'of', 'order.'], ['you', 'will', 'be', 'aware', 'from', 'the', 'press', 'and', 'television', 'that', 'there', 'have', 'been', 'a', 'number', 'of', 'bomb', 'explosions', 'and', 'killings', 'in', 'sri', 'lanka.'], ['one', 'of', 'the', 'people', 'assassinated', 'very', 'recently', 'in', 'sri', 'lanka', 'was', 'mr', 'kumar', 'ponnambalam,', 'who', 'had', 'visited', 'the', 'european', 'parliament', 'just', 'a', 'few', 'months', 'ago.']] \n",
      " [['återupptagande', 'av', 'sessionen'], ['jag', 'förklarar', 'europaparlamentets', 'session', 'återupptagen', 'efter', 'avbrottet', 'den', '17', 'december.', 'jag', 'vill', 'på', 'nytt', 'önska', 'er', 'ett', 'gott', 'nytt', 'år', 'och', 'jag', 'hoppas', 'att', 'ni', 'haft', 'en', 'trevlig', 'semester.'], ['som', 'ni', 'kunnat', 'konstatera', 'ägde', '\"den', 'stora', 'år', '2000-buggen\"', 'aldrig', 'rum.', 'däremot', 'har', 'invånarna', 'i', 'ett', 'antal', 'av', 'våra', 'medlemsländer', 'drabbats', 'av', 'naturkatastrofer', 'som', 'verkligen', 'varit', 'förskräckliga.'], ['ni', 'har', 'begärt', 'en', 'debatt', 'i', 'ämnet', 'under', 'sammanträdesperiodens', 'kommande', 'dagar.'], ['till', 'dess', 'vill', 'jag', 'att', 'vi,', 'som', 'ett', 'antal', 'kolleger', 'begärt,', 'håller', 'en', 'tyst', 'minut', 'för', 'offren', 'för', 'bl.a.', 'stormarna', 'i', 'de', 'länder', 'i', 'europeiska', 'unionen', 'som', 'drabbats.'], ['jag', 'ber', 'er', 'resa', 'er', 'för', 'en', 'tyst', 'minut.'], ['(parlamentet', 'höll', 'en', 'tyst', 'minut.)'], ['fru', 'talman!', 'det', 'gäller', 'en', 'ordningsfråga.'], ['ni', 'känner', 'till', 'från', 'media', 'att', 'det', 'skett', 'en', 'rad', 'bombexplosioner', 'och', 'mord', 'i', 'sri', 'lanka.'], ['en', 'av', 'de', 'personer', 'som', 'mycket', 'nyligen', 'mördades', 'i', 'sri', 'lanka', 'var', 'kumar', 'ponnambalam,', 'som', 'besökte', 'europaparlamentet', 'för', 'bara', 'några', 'månader', 'sedan.']]\n"
     ]
    }
   ],
   "source": [
    "print(en_tokenized_rdd.take(10), '\\n', sv_tokenized_rdd.take(10))"
   ]
  },
  {
   "cell_type": "code",
   "execution_count": 90,
   "metadata": {},
   "outputs": [
    {
     "data": {
      "text/plain": [
       "True"
      ]
     },
     "execution_count": 90,
     "metadata": {},
     "output_type": "execute_result"
    }
   ],
   "source": [
    "en_tokenized_rdd.count() == sv_tokenized_rdd.count()"
   ]
  },
  {
   "cell_type": "markdown",
   "metadata": {},
   "source": [
    "# A. 3"
   ]
  },
  {
   "cell_type": "code",
   "execution_count": 91,
   "metadata": {},
   "outputs": [
    {
     "name": "stdout",
     "output_type": "stream",
     "text": [
      "[('the', 3498574), ('of', 1659884), ('to', 1539823), ('and', 1288620), ('in', 1086089), ('that', 797576), ('a', 773812), ('is', 758087), ('for', 534270), ('we', 522879)] \n",
      " [('att', 1706309), ('och', 1344895), ('i', 1050989), ('det', 924878), ('som', 913302), ('för', 908703), ('av', 738102), ('är', 694389), ('en', 620347), ('vi', 539808)]\n"
     ]
    }
   ],
   "source": [
    "def most_frequent_words(rdd, number=10):\n",
    "    return rdd \\\n",
    "        .flatMap(lambda x:x) \\\n",
    "        .map(lambda x:(x,1)) \\\n",
    "        .reduceByKey(add) \\\n",
    "        .takeOrdered(number, key=lambda x:-x[1])\n",
    "        \n",
    "print(most_frequent_words(en_tokenized_rdd), '\\n', most_frequent_words(sv_tokenized_rdd))"
   ]
  },
  {
   "cell_type": "code",
   "execution_count": 92,
   "metadata": {},
   "outputs": [
    {
     "data": {
      "text/plain": [
       "[('the', 3498574),\n",
       " ('of', 1659884),\n",
       " ('to', 1539823),\n",
       " ('and', 1288620),\n",
       " ('in', 1086089),\n",
       " ('that', 797576),\n",
       " ('a', 773812),\n",
       " ('is', 758087),\n",
       " ('for', 534270),\n",
       " ('we', 522879)]"
      ]
     },
     "execution_count": 92,
     "metadata": {},
     "output_type": "execute_result"
    }
   ],
   "source": [
    "# Verification 1 on English result\n",
    "def word_count_in_line(line):\n",
    "    d = {}\n",
    "    for word in line:\n",
    "        if word in d:\n",
    "            d[word] += 1\n",
    "        else:\n",
    "            d[word] = 1\n",
    "    return d.items()\n",
    "\n",
    "en_tokenized_rdd \\\n",
    "    .flatMap(word_count_in_line) \\\n",
    "    .reduceByKey(add) \\\n",
    "    .takeOrdered(10, key=lambda x:-x[1])"
   ]
  },
  {
   "cell_type": "code",
   "execution_count": 93,
   "metadata": {},
   "outputs": [
    {
     "data": {
      "text/plain": [
       "[('att', 1706309),\n",
       " ('och', 1344895),\n",
       " ('i', 1050989),\n",
       " ('det', 924878),\n",
       " ('som', 913302),\n",
       " ('för', 908703),\n",
       " ('av', 738102),\n",
       " ('är', 694389),\n",
       " ('en', 620347),\n",
       " ('vi', 539808)]"
      ]
     },
     "execution_count": 93,
     "metadata": {},
     "output_type": "execute_result"
    }
   ],
   "source": [
    "# Verification 2 on Swedish result\n",
    "parallel_corpus_sv_rdd \\\n",
    "    .flatMap(pre_process) \\\n",
    "    .map(lambda x:(x,1)) \\\n",
    "    .reduceByKey(add) \\\n",
    "    .takeOrdered(10, key=lambda x:-x[1])"
   ]
  },
  {
   "cell_type": "markdown",
   "metadata": {},
   "source": [
    "# A. 4"
   ]
  },
  {
   "cell_type": "code",
   "execution_count": 94,
   "metadata": {},
   "outputs": [],
   "source": [
    "en_line_index_rdd = en_tokenized_rdd.zipWithIndex().map(lambda x:(x[1],x[0]))\n",
    "sv_line_index_rdd = sv_tokenized_rdd.zipWithIndex().map(lambda x:(x[1],x[0]))\n",
    "joined_line_index_rdd = en_line_index_rdd.join(sv_line_index_rdd)"
   ]
  },
  {
   "cell_type": "code",
   "execution_count": 95,
   "metadata": {},
   "outputs": [
    {
     "data": {
      "text/plain": [
       "[(('and', 'och'), 35291),\n",
       " (('is', 'är'), 27871),\n",
       " (('i', 'jag'), 27136),\n",
       " (('we', 'vi'), 26031),\n",
       " (('in', 'i'), 18615),\n",
       " (('to', 'att'), 18601),\n",
       " (('that', 'att'), 16463),\n",
       " (('a', 'en'), 15469),\n",
       " (('it', 'det'), 14698),\n",
       " (('of', 'av'), 12984),\n",
       " (('the', 'den'), 12592),\n",
       " (('this', 'detta'), 11429),\n",
       " (('not', 'inte'), 11141),\n",
       " (('the', 'det'), 10733),\n",
       " (('the', 'de'), 10232),\n",
       " (('for', 'för'), 10232),\n",
       " (('a', 'ett'), 9408),\n",
       " (('the', 'att'), 9376),\n",
       " (('the', 'i'), 8743),\n",
       " (('have', 'har'), 8212),\n",
       " (('to', 'till'), 7165),\n",
       " (('that', 'det'), 6736),\n",
       " (('mr', 'herr'), 6306),\n",
       " (('the', 'av'), 6154),\n",
       " (('with', 'med'), 5887),\n",
       " (('are', 'är'), 5880),\n",
       " (('will', 'att'), 5766),\n",
       " (('to', 'för'), 5751),\n",
       " (('there', 'det'), 5599),\n",
       " (('this', 'denna'), 5495),\n",
       " (('will', 'kommer'), 5429),\n",
       " (('the', 'för'), 5287),\n",
       " (('has', 'har'), 5278),\n",
       " (('the', 'och'), 5107),\n",
       " (('as', 'som'), 4938),\n",
       " (('must', 'måste'), 4934),\n",
       " (('this', 'det'), 4820),\n",
       " (('that', 'som'), 4572),\n",
       " (('the', 'som'), 4293),\n",
       " (('but', 'men'), 4038),\n",
       " (('can', 'kan'), 3922),\n",
       " (('which', 'som'), 3887),\n",
       " (('of', 'för'), 3887),\n",
       " (('the', 'till'), 3848),\n",
       " (('these', 'dessa'), 3769),\n",
       " (('very', 'mycket'), 3746),\n",
       " (('they', 'de'), 3711),\n",
       " (('the', 'på'), 3686),\n",
       " (('is', 'det'), 3593),\n",
       " (('european', 'europeiska'), 3463),\n",
       " (('be', 'vara'), 3461),\n",
       " (('be', 'att'), 3413),\n",
       " (('the', 'om'), 3413),\n",
       " (('also', 'också'), 3367),\n",
       " (('you', 'ni'), 3353),\n",
       " (('an', 'en'), 3325),\n",
       " (('if', 'om'), 3307),\n",
       " (('of', 'att'), 3232),\n",
       " (('president,', 'talman!'), 3202),\n",
       " (('of', 'i'), 3201),\n",
       " (('would', 'skulle'), 3175),\n",
       " (('the', 'är'), 3089),\n",
       " (('on', 'på'), 3086),\n",
       " (('closed.', 'avslutad.'), 2983),\n",
       " (('the', 'kommissionen'), 2934),\n",
       " (('in', 'på'), 2875),\n",
       " (('the', 'med'), 2874),\n",
       " (('on', 'om'), 2766),\n",
       " (('what', 'vad'), 2688),\n",
       " (('.', '.'), 2662),\n",
       " (('of', 'om'), 2584),\n",
       " (('(applause)', '(applåder)'), 2559),\n",
       " (('-', '-'), 2505),\n",
       " (('or', 'eller'), 2505),\n",
       " (('that', 'detta'), 2499),\n",
       " (('all', 'alla'), 2404),\n",
       " (('from', 'från'), 2391),\n",
       " (('our', 'våra'), 2388),\n",
       " (('our', 'vår'), 2383),\n",
       " (('of', 'på'), 2370)]"
      ]
     },
     "execution_count": 95,
     "metadata": {},
     "output_type": "execute_result"
    }
   ],
   "source": [
    "joined_line_index_rdd \\\n",
    "    .filter(lambda x:len(x[1][0])==len(x[1][1]) and len(x[1][0])>0) \\\n",
    "    .flatMap(lambda x:zip(x[1][0],x[1][1])) \\\n",
    "    .map(lambda x:(x,1)) \\\n",
    "    .reduceByKey(add) \\\n",
    "    .takeOrdered(80, key=lambda x:-x[1])"
   ]
  }
 ],
 "metadata": {
  "kernelspec": {
   "display_name": "Python 3",
   "language": "python",
   "name": "python3"
  },
  "language_info": {
   "codemirror_mode": {
    "name": "ipython",
    "version": 3
   },
   "file_extension": ".py",
   "mimetype": "text/x-python",
   "name": "python",
   "nbconvert_exporter": "python",
   "pygments_lexer": "ipython3",
   "version": "3.6.9"
  }
 },
 "nbformat": 4,
 "nbformat_minor": 2
}
